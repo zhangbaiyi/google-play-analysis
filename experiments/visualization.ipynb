{
 "cells": [
  {
   "cell_type": "code",
   "execution_count": 2,
   "id": "initial_id",
   "metadata": {
    "collapsed": true,
    "ExecuteTime": {
     "end_time": "2023-11-25T17:33:42.859450Z",
     "start_time": "2023-11-25T17:33:21.129044Z"
    }
   },
   "outputs": [
    {
     "name": "stdout",
     "output_type": "stream",
     "text": [
      "=======================================\n",
      "Pre-processing of dataset\n",
      "Output: first 5 rows of the result dataset\n",
      "=======================================\n",
      "        Category  Rating  Rating Count Minimum Installs  Maximum Installs  \\\n",
      "0      Adventure     0.0           0.0            0-100                15   \n",
      "1          Tools     4.4          64.0           1k-10k              7662   \n",
      "2   Productivity     0.0           0.0            0-100                58   \n",
      "3  Communication     5.0           5.0            0-100                19   \n",
      "4          Tools     0.0           0.0           100-1k               478   \n",
      "\n",
      "   Free  Price Minimum Android Content Rating  Ad Supported  In App Purchases  \\\n",
      "0  True    0.0               7       Everyone         False             False   \n",
      "1  True    0.0               5       Everyone          True             False   \n",
      "2  True    0.0               4       Everyone         False             False   \n",
      "3  True    0.0               4       Everyone          True             False   \n",
      "4  True    0.0               4       Everyone         False             False   \n",
      "\n",
      "   Editors Choice  Name Length  Clean Size  App Age  Last Update Age  \n",
      "0           False          7.0        10.0    475.0              475  \n",
      "1           False         19.0         2.9    390.0               40  \n",
      "2           False          6.0         3.7    676.0              666  \n",
      "3           False         50.0         1.8   1009.0              976  \n",
      "4           False          7.0         6.2    480.0              946  \n"
     ]
    }
   ],
   "source": [
    "# Google Play Dataset - Preprocessing\n",
    "import numpy as np\n",
    "import pandas as pd\n",
    "import re\n",
    "\n",
    "print(\"=======================================\")\n",
    "print(\"Pre-processing of dataset\")\n",
    "print(\"Output: first 5 rows of the result dataset\")\n",
    "print(\"=======================================\")\n",
    "df = pd.read_csv('../Google-Playstore.csv')\n",
    "\n",
    "def classify_size_column(value):\n",
    "    if pd.isna(value) or value == 'Varies with device':\n",
    "        return np.nan\n",
    "    match = re.search(r'([0-9.]+)([kMG]?)', str(value))\n",
    "    if match:\n",
    "        number, unit = match.groups()\n",
    "        if unit == 'k':\n",
    "            return float(number) / 1024\n",
    "        elif unit == 'G':\n",
    "            return float(number) * 1024\n",
    "        else:\n",
    "            return float(number)\n",
    "    else:\n",
    "        return np.nan\n",
    "\n",
    "def install_groupby(value):\n",
    "    if value < 100:\n",
    "        return '0-100'\n",
    "    elif value < 1000:\n",
    "        return '100-1k'\n",
    "    elif value < 10000:\n",
    "        return '1k-10k'\n",
    "    elif value < 100000:\n",
    "        return '10k-100k'\n",
    "    else:\n",
    "        return '100k+'\n",
    "\n",
    "df.drop(['App Id','Developer Id', 'Developer Website', 'Developer Email', 'Privacy Policy', 'Scraped Time'], axis=1, inplace=True)\n",
    "\n",
    "df['Currency'] = df['Currency'].apply(lambda x: 'USD' if x == 'USD' else 'Others')\n",
    "df.drop(df[df['Currency'] == 'Others'].index, inplace=True)\n",
    "df.drop(columns=['Currency'], inplace=True)\n",
    "df.drop(columns=['Installs'], inplace=True)\n",
    "df['Name Length'] = df['App Name'].str.len()\n",
    "df['Minimum Android'] = df['Minimum Android'].str.replace(' and up', '').str.split(' - ').str.get(0)\n",
    "df['Minimum Android'] = df['Minimum Android'].str.split('.').str.get(0)\n",
    "# Replace 'Varies with device' with NaN\n",
    "df['Minimum Android'] = df['Minimum Android'].apply(lambda x: np.nan if x == 'Varies with device' else x)\n",
    "\n",
    "df['Clean Size'] = df['Size'].apply(classify_size_column)\n",
    "df['Clean Size'].describe()\n",
    "\n",
    "# Replace date by age (in days)\n",
    "df['Released'] = pd.to_datetime(df['Released'], format='%b %d, %Y')\n",
    "df['Last Updated'] = pd.to_datetime(df['Last Updated'], format='%b %d, %Y')\n",
    "scraped_time = pd.to_datetime('2021-06-15 00:00:00')\n",
    "df['App Age'] = (scraped_time - df['Released']).dt.days\n",
    "# Last update age\n",
    "df['Last Update Age'] = (scraped_time - df['Last Updated']).dt.days\n",
    "\n",
    "df['Minimum Installs'] = df['Minimum Installs'].apply(install_groupby)\n",
    "# Drop 'Installs'\n",
    "# df.drop(columns=['Installs'], inplace=True)\n",
    "\n",
    "df.drop(columns=['Released', 'Last Updated'], inplace=True)\n",
    "df.drop(['Size'], axis=1, inplace=True)\n",
    "df.drop(['App Name'], axis=1, inplace=True)\n",
    "df.dropna(inplace=True)\n",
    "df.drop_duplicates(inplace=True)\n",
    "\n",
    "print(df.head(5))\n"
   ]
  },
  {
   "cell_type": "code",
   "execution_count": 4,
   "outputs": [],
   "source": [
    "df_outlier = df.select_dtypes(include=np.number)\n",
    "##### Mahalanobis Distance\n",
    "from scipy.spatial.distance import mahalanobis\n",
    "mean_vector = df_outlier.mean()\n",
    "covariance_matrix = df_outlier.cov()\n",
    "inv_covariance_matrix = np.linalg.inv(covariance_matrix)\n",
    "mahalanobis_dist = [mahalanobis(df_outlier.iloc[i], mean_vector, inv_covariance_matrix) for i in range(len(df_outlier))]\n",
    "\n",
    "df_outlier['mahalanobis_dist'] = mahalanobis_dist\n",
    "from scipy.stats import chi2\n",
    "\n",
    "significance_level = 0.1  # Adjust as needed\n",
    "threshold = chi2.ppf((1 - significance_level), df=11)  # df is the number of variables\n",
    "df_outlier['outlier'] = df_outlier['mahalanobis_dist']**2 > threshold\n",
    "df_outlier['outlier'].value_counts()\n",
    "df['outlier'] = df_outlier['outlier']\n",
    "df = df[df['outlier']==False]\n",
    "df.drop(columns=['outlier'],inplace=True)\n",
    "df.reset_index(drop=True,inplace=True)\n",
    "\n"
   ],
   "metadata": {
    "collapsed": false,
    "ExecuteTime": {
     "end_time": "2023-11-25T17:34:35.855566Z",
     "start_time": "2023-11-25T17:33:55.023178Z"
    }
   },
   "id": "7b3b49789b820534"
  },
  {
   "cell_type": "code",
   "execution_count": 5,
   "outputs": [],
   "source": [
    "ordered_m_distance = mahalanobis_dist.copy()\n",
    "ordered_m_distance.sort()\n"
   ],
   "metadata": {
    "collapsed": false,
    "ExecuteTime": {
     "end_time": "2023-11-25T18:10:45.661647Z",
     "start_time": "2023-11-25T18:10:45.659567Z"
    }
   },
   "id": "e319233799bb0cb4"
  },
  {
   "cell_type": "code",
   "execution_count": 6,
   "outputs": [],
   "source": [
    "def calculate_chi_squared_quantiles(n, degrees_of_freedom):\n",
    "    probabilities = np.linspace(0, 1, n)\n",
    "    chi_squared_quantiles = chi2.ppf(probabilities, degrees_of_freedom)\n",
    "    return chi_squared_quantiles\n",
    "chi_square_quantiles = calculate_chi_squared_quantiles(len(mahalanobis_dist), 10)"
   ],
   "metadata": {
    "collapsed": false,
    "ExecuteTime": {
     "end_time": "2023-11-25T18:19:13.906026Z",
     "start_time": "2023-11-25T18:19:13.204044Z"
    }
   },
   "id": "e723968dc9e4bb7f"
  },
  {
   "cell_type": "code",
   "execution_count": 7,
   "outputs": [],
   "source": [
    "def calculate_empirical_quantiles(sorted_data):\n",
    "    n = len(sorted_data)\n",
    "    empirical_quantiles = (np.arange(1, n + 1) - 0.5) / n\n",
    "    return empirical_quantiles\n",
    "\n",
    "empirical_quantiles = calculate_empirical_quantiles(mahalanobis_dist)"
   ],
   "metadata": {
    "collapsed": false,
    "ExecuteTime": {
     "end_time": "2023-11-25T18:21:51.988812Z",
     "start_time": "2023-11-25T18:21:51.969269Z"
    }
   },
   "id": "1b1c841e9ae9f631"
  },
  {
   "cell_type": "code",
   "execution_count": 9,
   "outputs": [
    {
     "data": {
      "text/plain": "<Figure size 800x800 with 1 Axes>",
      "image/png": "[encoded data removed]"
     },
     "metadata": {},
     "output_type": "display_data"
    }
   ],
   "source": [
    "import matplotlib.pyplot as plt\n",
    "plt.figure(figsize=(8, 8))\n",
    "plt.scatter(chi_square_quantiles, mahalanobis_dist, s=5, label='Chi-Squared Quantiles')\n",
    "plt.show()"
   ],
   "metadata": {
    "collapsed": false,
    "ExecuteTime": {
     "end_time": "2023-11-25T18:31:32.654022Z",
     "start_time": "2023-11-25T18:31:29.982725Z"
    }
   },
   "id": "f8d8b2edfc586835"
  },
  {
   "cell_type": "code",
   "execution_count": null,
   "outputs": [],
   "source": [],
   "metadata": {
    "collapsed": false
   },
   "id": "646934fce87c5bb3"
  }
 ],
 "metadata": {
  "kernelspec": {
   "display_name": "Python 3",
   "language": "python",
   "name": "python3"
  },
  "language_info": {
   "codemirror_mode": {
    "name": "ipython",
    "version": 2
   },
   "file_extension": ".py",
   "mimetype": "text/x-python",
   "name": "python",
   "nbconvert_exporter": "python",
   "pygments_lexer": "ipython2",
   "version": "2.7.6"
  }
 },
 "nbformat": 4,
 "nbformat_minor": 5
}
